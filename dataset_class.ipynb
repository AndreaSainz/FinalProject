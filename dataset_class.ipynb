{
 "cells": [
  {
   "cell_type": "code",
   "execution_count": 2,
   "metadata": {},
   "outputs": [
    {
     "name": "stdout",
     "output_type": "stream",
     "text": [
      "Intel MKL WARNING: Support of Intel(R) Streaming SIMD Extensions 4.2 (Intel(R) SSE4.2) enabled only processors has been deprecated. Intel oneAPI Math Kernel Library 2025.0 will require Intel(R) Advanced Vector Extensions (Intel(R) AVX) instructions.\n",
      "Intel MKL WARNING: Support of Intel(R) Streaming SIMD Extensions 4.2 (Intel(R) SSE4.2) enabled only processors has been deprecated. Intel oneAPI Math Kernel Library 2025.0 will require Intel(R) Advanced Vector Extensions (Intel(R) AVX) instructions.\n"
     ]
    }
   ],
   "source": [
    "import os\n",
    "from torch.utils.data import Dataset\n",
    "import tomosipo as ts\n",
    "import h5py\n",
    "import torch\n",
    "import numpy as np\n",
    "import matplotlib.pyplot as plt"
   ]
  },
  {
   "cell_type": "code",
   "execution_count": null,
   "metadata": {},
   "outputs": [],
   "source": [
    "class LoDoPaBDataset(Dataset):\n",
    "\n",
    "    def __init__(self, ground_truth_dir):\n",
    "        \"\"\"\n",
    "        Args:\n",
    "            ground_truth_dir (str): Directory where the ground truth HDF5 files are stored.\n",
    "\n",
    "        \"\"\"\n",
    "        # Convert to absolute path\n",
    "        self.ground_truth_dir = os.path.abspath(ground_truth_dir)\n",
    "        print(f\"Using dataset directory: {self.ground_truth_dir}\")  \n",
    "\n",
    "        # List all HDF5 files\n",
    "        self.files = [os.path.join(self.ground_truth_dir, f) for f in os.listdir(self.ground_truth_dir) if f.endswith('.hdf5')]\n",
    "        # Sort the files such that '000' files come first\n",
    "        self.files.sort()\n",
    "        print(\"Found files:\", self.files)\n",
    "\n",
    "        # If no files are found, raise an error\n",
    "        if len(self.files) == 0:\n",
    "            raise ValueError(f\"No HDF5 files found in directory: {self.ground_truth_dir}\")\n",
    "    \n",
    "        #Scan parameters from the paper\n",
    "        self.pixel_size = 26/362 #Image resolution of 362x362 pixels on a domain size of 26x26 cm\n",
    "        self.detector_bin_width = 513/26 #513 equidistant detector bins s spanning the image diameter.\n",
    "        self.scan_distance = 79 # (cm) This is not specified, this is an assumption\n",
    "        self.cone_angle = 0.00000001 #np.arctan(26/(2*self.scan_distance)) \n",
    "        self.num_detectors = 513\n",
    "\n",
    "        print(\"Cone Angle (rads):\", self.cone_angle)\n",
    "\n",
    "\n",
    "\n",
    "    def __len__(self):\n",
    "        \"\"\"Return the total number of samples in the dataset\"\"\"\n",
    "        return len(self.files)\n",
    "\n",
    "    def __getitem__(self, idx):\n",
    "        \"\"\"\n",
    "        Args:\n",
    "            idx (int): Index of the sample to be shown.\n",
    "        \n",
    "        Returns:\n",
    "            A sample containing the ground truth data images and the sinogram.\n",
    "        \"\"\"\n",
    "\n",
    "        #Calculating the file number. The idx will be a number between 0 and 128*number of files (because each file contains 128 images)\n",
    "        file_number = int(idx/len(self.files))\n",
    "        print(f\"Taking file number: {file_number}\")\n",
    "\n",
    "        # Get the file corresponding to the index\n",
    "        file_path = self.files[file_number]\n",
    "        print(f\"Using file path: {file_path}\")\n",
    "        \n",
    "        # Read the HDF5 file\n",
    "        with h5py.File(file_path, 'r') as f:\n",
    "            # For example, let's assume the ground truth data is stored in 'data' key in the HDF5 file\n",
    "            ground_truth = f['data'][:]\n",
    "        \n",
    "        # Convert to tensor\n",
    "        sample = torch.tensor(ground_truth, dtype=torch.float32)\n",
    "        \n",
    "        # Compute the local index within the file\n",
    "        local_idx = idx % 128\n",
    "        print(f\"Taking image number: {local_idx}\")\n",
    "        \n",
    "        # Extract the specific slice\n",
    "        sample_slice = sample[local_idx].unsqueeze(0) # .unsqueeze(0) ensures the pytorch tensor is in the form (1,362,362) instead of (362,362)\n",
    "\n",
    "        # Create Sinogram using tomosipo\n",
    "        # Volumen\n",
    "        vg = ts.volume(shape=(1,362,362))\n",
    "\n",
    "        #angels\n",
    "        angles = np.linspace(0, np.pi, 1000, endpoint=True)\n",
    "\n",
    "        # Fan beam structure\n",
    "        pg = ts.cone(angles = angles, cone_angle = self.cone_angle, shape=(1, self.num_detectors))\n",
    "\n",
    "        # Operator \n",
    "        A = ts.operator(vg,pg)\n",
    "\n",
    "        # Tranform the image to sinogram (it is already a Pytorch tensor)\n",
    "        sinogram = A(sample_slice)\n",
    "\n",
    "        # Print the shape of the sinogram\n",
    "        print(\"Sinogram shape:\", sinogram.shape)\n",
    "\n",
    "        #Backprojecting sinogram to check that I can get the same image\n",
    "        back_projection = A.T(sinogram)\n",
    "        \n",
    "        return {'ground_truth': sample, 'sinogram': sinogram, 'backprojection': back_projection}"
   ]
  },
  {
   "cell_type": "markdown",
   "metadata": {},
   "source": [
    "# Testing good data access"
   ]
  },
  {
   "cell_type": "code",
   "execution_count": 4,
   "metadata": {},
   "outputs": [
    {
     "name": "stdout",
     "output_type": "stream",
     "text": [
      "Using dataset directory: /Users/andreasainz/Documents/DIS/Final project/as3628/Data/ground_truth_test\n",
      "Found files: ['/Users/andreasainz/Documents/DIS/Final project/as3628/Data/ground_truth_test/ground_truth_test_010.hdf5', '/Users/andreasainz/Documents/DIS/Final project/as3628/Data/ground_truth_test/ground_truth_test_006.hdf5', '/Users/andreasainz/Documents/DIS/Final project/as3628/Data/ground_truth_test/ground_truth_test_026.hdf5', '/Users/andreasainz/Documents/DIS/Final project/as3628/Data/ground_truth_test/ground_truth_test_027.hdf5', '/Users/andreasainz/Documents/DIS/Final project/as3628/Data/ground_truth_test/ground_truth_test_007.hdf5', '/Users/andreasainz/Documents/DIS/Final project/as3628/Data/ground_truth_test/ground_truth_test_011.hdf5', '/Users/andreasainz/Documents/DIS/Final project/as3628/Data/ground_truth_test/ground_truth_test_020.hdf5', '/Users/andreasainz/Documents/DIS/Final project/as3628/Data/ground_truth_test/ground_truth_test_016.hdf5', '/Users/andreasainz/Documents/DIS/Final project/as3628/Data/ground_truth_test/ground_truth_test_000.hdf5', '/Users/andreasainz/Documents/DIS/Final project/as3628/Data/ground_truth_test/ground_truth_test_001.hdf5', '/Users/andreasainz/Documents/DIS/Final project/as3628/Data/ground_truth_test/ground_truth_test_017.hdf5', '/Users/andreasainz/Documents/DIS/Final project/as3628/Data/ground_truth_test/ground_truth_test_021.hdf5', '/Users/andreasainz/Documents/DIS/Final project/as3628/Data/ground_truth_test/ground_truth_test_018.hdf5', '/Users/andreasainz/Documents/DIS/Final project/as3628/Data/ground_truth_test/ground_truth_test_022.hdf5', '/Users/andreasainz/Documents/DIS/Final project/as3628/Data/ground_truth_test/ground_truth_test_002.hdf5', '/Users/andreasainz/Documents/DIS/Final project/as3628/Data/ground_truth_test/ground_truth_test_014.hdf5', '/Users/andreasainz/Documents/DIS/Final project/as3628/Data/ground_truth_test/ground_truth_test_015.hdf5', '/Users/andreasainz/Documents/DIS/Final project/as3628/Data/ground_truth_test/ground_truth_test_003.hdf5', '/Users/andreasainz/Documents/DIS/Final project/as3628/Data/ground_truth_test/ground_truth_test_023.hdf5', '/Users/andreasainz/Documents/DIS/Final project/as3628/Data/ground_truth_test/ground_truth_test_019.hdf5', '/Users/andreasainz/Documents/DIS/Final project/as3628/Data/ground_truth_test/ground_truth_test_004.hdf5', '/Users/andreasainz/Documents/DIS/Final project/as3628/Data/ground_truth_test/ground_truth_test_012.hdf5', '/Users/andreasainz/Documents/DIS/Final project/as3628/Data/ground_truth_test/ground_truth_test_008.hdf5', '/Users/andreasainz/Documents/DIS/Final project/as3628/Data/ground_truth_test/ground_truth_test_024.hdf5', '/Users/andreasainz/Documents/DIS/Final project/as3628/Data/ground_truth_test/ground_truth_test_025.hdf5', '/Users/andreasainz/Documents/DIS/Final project/as3628/Data/ground_truth_test/ground_truth_test_009.hdf5', '/Users/andreasainz/Documents/DIS/Final project/as3628/Data/ground_truth_test/ground_truth_test_013.hdf5', '/Users/andreasainz/Documents/DIS/Final project/as3628/Data/ground_truth_test/ground_truth_test_005.hdf5']\n"
     ]
    }
   ],
   "source": [
    "test_set = LoDoPaBDataset(\"Data/ground_truth_test\")"
   ]
  },
  {
   "cell_type": "code",
   "execution_count": 4,
   "metadata": {},
   "outputs": [
    {
     "name": "stdout",
     "output_type": "stream",
     "text": [
      "length of the SimpleDataset object:  28\n"
     ]
    }
   ],
   "source": [
    "print(\"length of the SimpleDataset object: \", len(test_set))"
   ]
  },
  {
   "cell_type": "code",
   "execution_count": null,
   "metadata": {},
   "outputs": [
    {
     "ename": "NameError",
     "evalue": "name 'test_set' is not defined",
     "output_type": "error",
     "traceback": [
      "\u001b[0;31m---------------------------------------------------------------------------\u001b[0m",
      "\u001b[0;31mNameError\u001b[0m                                 Traceback (most recent call last)",
      "Cell \u001b[0;32mIn[1], line 2\u001b[0m\n\u001b[1;32m      1\u001b[0m \u001b[38;5;66;03m# Get the first sample from the dataset\u001b[39;00m\n\u001b[0;32m----> 2\u001b[0m sample \u001b[38;5;241m=\u001b[39m \u001b[43mtest_set\u001b[49m[\u001b[38;5;241m0\u001b[39m]  \n\u001b[1;32m      4\u001b[0m \u001b[38;5;66;03m# Extract the ground truth image and the sinogram\u001b[39;00m\n\u001b[1;32m      5\u001b[0m ground_truth_image \u001b[38;5;241m=\u001b[39m sample[\u001b[38;5;124m'\u001b[39m\u001b[38;5;124mground_truth\u001b[39m\u001b[38;5;124m'\u001b[39m][\u001b[38;5;241m0\u001b[39m]\u001b[38;5;241m.\u001b[39msqueeze()\u001b[38;5;241m.\u001b[39mnumpy()  \u001b[38;5;66;03m# Remove batch dim and convert to NumPy\u001b[39;00m\n",
      "\u001b[0;31mNameError\u001b[0m: name 'test_set' is not defined"
     ]
    }
   ],
   "source": [
    "# Get the first sample from the dataset\n",
    "sample = test_set[0]  \n",
    "\n",
    "# Extract the ground truth image and the sinogram\n",
    "ground_truth_image = sample['ground_truth'][0].squeeze().numpy()  # Remove batch dim and convert to NumPy\n",
    "sinogram_image = sample['sinogram'][0].squeeze().numpy()  \n",
    "backprojected_image = sample['backprojection'][0].squeeze().numpy()\n",
    "\n",
    "# Plot the images\n",
    "fig, axes = plt.subplots(1, 3, figsize=(18, 6))\n",
    "\n",
    "# Ground truth image\n",
    "axes[0].imshow(ground_truth_image, cmap='gray')\n",
    "axes[0].set_title(\"Ground Truth Image\")\n",
    "axes[0].axis(\"off\")\n",
    "\n",
    "# Sinogram image\n",
    "axes[1].imshow(sinogram_image, cmap='gray', aspect='auto')\n",
    "axes[1].set_title(\"Sinogram Image\")\n",
    "axes[1].axis(\"off\")\n",
    "\n",
    "# Backprojected image\n",
    "axes[2].imshow(backprojected_image, cmap='gray', aspect='auto')\n",
    "axes[2].set_title(\"Back projected Image\")\n",
    "axes[2].axis(\"off\")\n",
    "\n",
    "# Show the plot\n",
    "plt.show()"
   ]
  },
  {
   "cell_type": "code",
   "execution_count": null,
   "metadata": {},
   "outputs": [],
   "source": [
    "# read first file of test data\n",
    "with h5py.File('/content/Data/ground_truth_test/ground_truth_test_000.hdf5', 'r') as f:\n",
    "            ground_truth = f['data'][:]\n",
    "\n",
    "# Convert to tensor\n",
    "sample = torch.tensor(ground_truth, dtype=torch.float32)\n",
    "\n",
    "# Taking the first image to test if the dataset took it correctly\n",
    "sample_image = sample[0]  \n",
    "\n",
    "#Visualize one image\n",
    "plt.imshow(sample_image, cmap='gray')\n",
    "plt.colorbar()  \n",
    "plt.show()"
   ]
  }
 ],
 "metadata": {
  "kernelspec": {
   "display_name": "tomosipo_x64_9",
   "language": "python",
   "name": "python3"
  },
  "language_info": {
   "codemirror_mode": {
    "name": "ipython",
    "version": 3
   },
   "file_extension": ".py",
   "mimetype": "text/x-python",
   "name": "python",
   "nbconvert_exporter": "python",
   "pygments_lexer": "ipython3",
   "version": "3.9.21"
  }
 },
 "nbformat": 4,
 "nbformat_minor": 2
}
