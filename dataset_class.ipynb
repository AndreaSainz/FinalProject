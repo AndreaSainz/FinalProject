{
 "cells": [
  {
   "cell_type": "code",
   "execution_count": null,
   "metadata": {},
   "outputs": [],
   "source": [
    "!pip install numpy==1.26.4 --force-reinstall --no-cache-dir"
   ]
  },
  {
   "cell_type": "code",
   "execution_count": null,
   "metadata": {},
   "outputs": [],
   "source": [
    "!pip install git+https://github.com/ahendriksen/tomosipo.git"
   ]
  },
  {
   "cell_type": "code",
   "execution_count": null,
   "metadata": {},
   "outputs": [],
   "source": [
    "import numpy as np\n",
    "print(np.__version__)"
   ]
  },
  {
   "cell_type": "code",
   "execution_count": null,
   "metadata": {},
   "outputs": [
    {
     "name": "stdout",
     "output_type": "stream",
     "text": [
      "Intel MKL WARNING: Support of Intel(R) Streaming SIMD Extensions 4.2 (Intel(R) SSE4.2) enabled only processors has been deprecated. Intel oneAPI Math Kernel Library 2025.0 will require Intel(R) Advanced Vector Extensions (Intel(R) AVX) instructions.\n",
      "Intel MKL WARNING: Support of Intel(R) Streaming SIMD Extensions 4.2 (Intel(R) SSE4.2) enabled only processors has been deprecated. Intel oneAPI Math Kernel Library 2025.0 will require Intel(R) Advanced Vector Extensions (Intel(R) AVX) instructions.\n"
     ]
    }
   ],
   "source": [
    "import os\n",
    "import astra\n",
    "import tomosipo as ts\n",
    "from matplotlib import pyplot as plt\n",
    "from functions.dataset import LoDoPaBDataset"
   ]
  },
  {
   "cell_type": "markdown",
   "metadata": {},
   "source": [
    "## Testing good data access"
   ]
  },
  {
   "cell_type": "code",
   "execution_count": null,
   "metadata": {},
   "outputs": [],
   "source": [
    "from google.colab import drive\n",
    "drive.mount('/content/drive')"
   ]
  },
  {
   "cell_type": "code",
   "execution_count": null,
   "metadata": {},
   "outputs": [],
   "source": [
    "drive_path = \"/content/drive/My Drive/\"\n",
    "files = os.listdir(drive_path)\n",
    "files"
   ]
  },
  {
   "cell_type": "code",
   "execution_count": null,
   "metadata": {},
   "outputs": [],
   "source": [
    "# Testing it reads from the correct path\n",
    "test_path = os.path.join(drive_path,\"ground_truth_test\")\n",
    "test_set = LoDoPaBDataset(test_path)\n",
    "print(\"length of the SimpleDataset object: \", len(test_set))"
   ]
  },
  {
   "cell_type": "markdown",
   "metadata": {},
   "source": [
    " ## Testing indexis and sinogram creation"
   ]
  },
  {
   "cell_type": "code",
   "execution_count": null,
   "metadata": {},
   "outputs": [
    {
     "ename": "NameError",
     "evalue": "name 'test_set' is not defined",
     "output_type": "error",
     "traceback": [
      "\u001b[0;31m---------------------------------------------------------------------------\u001b[0m",
      "\u001b[0;31mNameError\u001b[0m                                 Traceback (most recent call last)",
      "Cell \u001b[0;32mIn[1], line 2\u001b[0m\n\u001b[1;32m      1\u001b[0m \u001b[38;5;66;03m# Get the first sample from the dataset\u001b[39;00m\n\u001b[0;32m----> 2\u001b[0m sample \u001b[38;5;241m=\u001b[39m \u001b[43mtest_set\u001b[49m[\u001b[38;5;241m0\u001b[39m]  \n\u001b[1;32m      4\u001b[0m \u001b[38;5;66;03m# Extract the ground truth image and the sinogram\u001b[39;00m\n\u001b[1;32m      5\u001b[0m ground_truth_image \u001b[38;5;241m=\u001b[39m sample[\u001b[38;5;124m'\u001b[39m\u001b[38;5;124mground_truth\u001b[39m\u001b[38;5;124m'\u001b[39m][\u001b[38;5;241m0\u001b[39m]\u001b[38;5;241m.\u001b[39msqueeze()\u001b[38;5;241m.\u001b[39mnumpy()  \u001b[38;5;66;03m# Remove batch dim and convert to NumPy\u001b[39;00m\n",
      "\u001b[0;31mNameError\u001b[0m: name 'test_set' is not defined"
     ]
    }
   ],
   "source": [
    "# Get the first sample from the dataset\n",
    "sample = test_set[1]\n",
    "\n",
    "# Extract the ground truth image and the sinogram\n",
    "ground_truth_image = sample['ground_truth'][0].squeeze().numpy()  # Remove batch dim and convert to NumPy\n",
    "sinogram_image = sample['sinogram'][0].squeeze().numpy()\n",
    "noisy_sinogram_image = sample['noisy_sinogram'][0].squeeze().numpy()\n",
    "single_back_projection = sample['single_back_projections']\n",
    "\n",
    "# Print the shapes\n",
    "print(\"Ground Truth Image Shape:\", ground_truth_image.shape)\n",
    "print(\"Sinogram Image Shape:\", sinogram_image.shape)\n",
    "print(\"Noisy Sinogram Image Shape:\", noisy_sinogram_image.shape)\n",
    "print(\"Single Backprojected Images Shape:\", single_back_projection.shape)\n",
    "\n",
    "# Plot the images\n",
    "fig, axes = plt.subplots(1, 4, figsize=(20, 6))\n",
    "\n",
    "# Ground truth image\n",
    "axes[0].imshow(ground_truth_image, cmap='gray')\n",
    "axes[0].set_title(\"Ground Truth Image\")\n",
    "axes[0].axis(\"off\")\n",
    "\n",
    "# Sinogram image\n",
    "axes[1].imshow(sinogram_image, cmap='gray',aspect='auto')\n",
    "axes[1].set_title(\"Sinogram Image\")\n",
    "axes[1].axis(\"off\")\n",
    "\n",
    "# Noisy Sinogram image\n",
    "axes[2].imshow(noisy_sinogram_image, cmap='gray',aspect='auto')\n",
    "axes[2].set_title(\"Noisy Sinogram Image\")\n",
    "axes[2].axis(\"off\")\n",
    "\n",
    "# Single-Backprojected image\n",
    "axes[3].imshow(single_back_projection[4], cmap='gray') # 0 vertical, around 7-8 horizontal\n",
    "axes[3].set_title(\"First Single-Backprojected Image\")\n",
    "axes[3].axis(\"off\")\n",
    "\n",
    "# Show the plot\n",
    "plt.show()"
   ]
  },
  {
   "cell_type": "code",
   "execution_count": null,
   "metadata": {},
   "outputs": [],
   "source": [
    "# read first file of test data\n",
    "file_path= os.path.join(test_path, \"ground_truth_test_000.hdf5\")\n",
    "with h5py.File(file_path, 'r') as f:\n",
    "            ground_truth = f['data'][:]\n",
    "\n",
    "# Convert to tensor\n",
    "sample = torch.tensor(ground_truth, dtype=torch.float32)\n",
    "\n",
    "# Taking the first image to test if the dataset took it correctly\n",
    "sample_image = sample[1]/1000\n",
    "\n",
    "#Visualize one image\n",
    "plt.imshow(sample_image, cmap='gray')\n",
    "plt.colorbar()\n",
    "plt.show()"
   ]
  }
 ],
 "metadata": {
  "kernelspec": {
   "display_name": "tomosipo_x64_9",
   "language": "python",
   "name": "python3"
  },
  "language_info": {
   "codemirror_mode": {
    "name": "ipython",
    "version": 3
   },
   "file_extension": ".py",
   "mimetype": "text/x-python",
   "name": "python",
   "nbconvert_exporter": "python",
   "pygments_lexer": "ipython3",
   "version": "3.9.21"
  }
 },
 "nbformat": 4,
 "nbformat_minor": 2
}
