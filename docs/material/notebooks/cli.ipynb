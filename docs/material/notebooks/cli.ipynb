{
 "cells": [
  {
   "cell_type": "markdown",
   "metadata": {},
   "source": [
    "Commands:\n",
    "\n",
    "| Command   | Description                                                      |\n",
    "|-----------|------------------------------------------------------------------|\n",
    "| `print`   | Print a dual number with specified real and dual parts.          |\n",
    "| `+`       | Add two dual numbers.                                            |\n",
    "| `-`       | Subtract two dual numbers.                                       |\n",
    "| `*`       | Multiply two dual numbers.                                       |\n",
    "| `/`       | Divide two dual numbers.                                         |\n",
    "| `**`      | Raise one dual number to the power of another.                   |\n",
    "| `==`      | Check if two dual numbers are equal.                             |\n",
    "| `<`       | Check if one dual number is less than another.                   |\n",
    "| `>`       | Check if one dual number is greater than another.                |\n",
    "| `<=`      | Check if one dual number is less than or equal to another.       |\n",
    "| `>=`      | Check if one dual number is greater than or equal to another.    |\n",
    "| `sqrt`    | Compute the square root of a dual number.                        |\n",
    "| `log`     | Compute the natural logarithm of a dual number.                  |\n",
    "| `cos`     | Compute the cosine of a dual number.                             |\n",
    "| `arccos`  | Compute the arccosine of a dual number.                          |\n",
    "| `sin`     | Compute the sine of a dual number.                               |\n",
    "| `arcsin`  | Compute the arcsine of a dual number.                            |\n",
    "| `tan`     | Compute the tangent of a dual number.                            |\n",
    "| `arctan`  | Compute the arctangent of a dual number.                         |\n",
    "| `cot`     | Compute the cotangent of a dual number.                          |\n",
    "| `cosh`    | Compute the hyperbolic cosine of a dual number.                  |\n",
    "| `arccosh` | Compute the inverse hyperbolic cosine of a dual number.          |\n",
    "| `sinh`    | Compute the hyperbolic sine of a dual number.                    |\n",
    "| `arcsinh` | Compute the inverse hyperbolic sine of a dual number.            |\n",
    "| `tanh`    | Compute the hyperbolic tangent of a dual number.                 |\n",
    "| `arctanh` | Compute the inverse hyperbolic tangent of a dual number.         |\n",
    "| `coth`    | Compute the hyperbolic cotangent of a dual number.               |\n",
    "| `exp`     | Compute the exponential of a dual number.                        |\n",
    "| `log_base`| Compute the logarithm of a dual number in a specified base.      |\n",
    "| `poly`    | Evaluate a polynomial with a dual number as input.               |"
   ]
  },
  {
   "cell_type": "markdown",
   "metadata": {},
   "source": []
  },
  {
   "cell_type": "markdown",
   "metadata": {},
   "source": []
  },
  {
   "cell_type": "markdown",
   "metadata": {},
   "source": [
    "\n",
    "\n",
    "\n",
    "\n",
    "#### Example on how to print a Dual Number\n",
    "\n",
    "We have the dual number:\n",
    "        2 + 3 $\\epsilon$\n",
    "\n",
    "we want to print it on the terminal or in a python file using bash commands."
   ]
  },
  {
   "cell_type": "code",
   "execution_count": 1,
   "metadata": {},
   "outputs": [
    {
     "name": "stdout",
     "output_type": "stream",
     "text": [
      "Dual(real = 2.0, dual = 3.0)\n"
     ]
    }
   ],
   "source": [
    "!python -m dual_autodiff.cli print --real 2.0 --dual 3.0"
   ]
  },
  {
   "cell_type": "markdown",
   "metadata": {},
   "source": []
  },
  {
   "cell_type": "markdown",
   "metadata": {},
   "source": []
  },
  {
   "cell_type": "markdown",
   "metadata": {},
   "source": [
    "\n",
    "\n",
    "\n",
    "\n",
    "####  Example on how to add two dual numbers \n",
    "\n",
    "We have the dual numbers \n",
    "        2 + 3 $\\epsilon$ and 4 + $\\epsilon$\n",
    "\n",
    "we want to add them ((2 + 3 $\\epsilon$) + (4 + $\\epsilon$)). "
   ]
  },
  {
   "cell_type": "code",
   "execution_count": 2,
   "metadata": {},
   "outputs": [
    {
     "name": "stdout",
     "output_type": "stream",
     "text": [
      "Dual(real = 6.0, dual = 4.0)\n"
     ]
    }
   ],
   "source": [
    "!python -m dual_autodiff.cli + --real_1 2.0 --dual_1 3.0 --real_2 4.0 --dual_2 1.0"
   ]
  },
  {
   "cell_type": "markdown",
   "metadata": {},
   "source": []
  },
  {
   "cell_type": "markdown",
   "metadata": {},
   "source": []
  },
  {
   "cell_type": "markdown",
   "metadata": {},
   "source": [
    "\n",
    "\n",
    "\n",
    "\n",
    "####  Example on how to calculate the logarithm in a different base of a dual number\n",
    "\n",
    "We have the dual number:\n",
    "        16 + 2 $\\epsilon$ \n",
    "\n",
    "we want to calculate the logarithm in base 2."
   ]
  },
  {
   "cell_type": "code",
   "execution_count": 3,
   "metadata": {},
   "outputs": [
    {
     "name": "stdout",
     "output_type": "stream",
     "text": [
      "Dual(real = 4.0, dual = 0.18033688011112042)\n"
     ]
    }
   ],
   "source": [
    "!python -m dual_autodiff.cli log_base --real 16.0 --dual 2.0 --base 2"
   ]
  },
  {
   "cell_type": "markdown",
   "metadata": {},
   "source": []
  },
  {
   "cell_type": "markdown",
   "metadata": {},
   "source": []
  },
  {
   "cell_type": "markdown",
   "metadata": {},
   "source": [
    "\n",
    "\n",
    "\n",
    "\n",
    "####  Example on how to calculate the logarithm in a different base of a dual number\n",
    "\n",
    "We have the dual number:\n",
    "        1 + $\\epsilon$ \n",
    "\n",
    "we want to calculate the polynomial:\n",
    "        $x^2 + 3x + 5$\n"
   ]
  },
  {
   "cell_type": "code",
   "execution_count": 4,
   "metadata": {},
   "outputs": [
    {
     "name": "stdout",
     "output_type": "stream",
     "text": [
      "Dual(real = 9.0, dual = 5.0)\n"
     ]
    }
   ],
   "source": [
    "!python -m dual_autodiff.cli poly --real 1.0 --dual 1.0 --coeff '[1,3,5]' --des 1"
   ]
  },
  {
   "cell_type": "code",
   "execution_count": 5,
   "metadata": {},
   "outputs": [
    {
     "name": "stdout",
     "output_type": "stream",
     "text": [
      "Dual(real = 9.0, dual = 5.0)\n"
     ]
    }
   ],
   "source": [
    "!python -m dual_autodiff.cli poly --real 1.0 --dual 1.0 --coeff '[5,3,1]' --des 0"
   ]
  }
 ],
 "metadata": {
  "kernelspec": {
   "display_name": "venv",
   "language": "python",
   "name": "python3"
  },
  "language_info": {
   "codemirror_mode": {
    "name": "ipython",
    "version": 3
   },
   "file_extension": ".py",
   "mimetype": "text/x-python",
   "name": "python",
   "nbconvert_exporter": "python",
   "pygments_lexer": "ipython3",
   "version": "3.12.4"
  }
 },
 "nbformat": 4,
 "nbformat_minor": 2
}
